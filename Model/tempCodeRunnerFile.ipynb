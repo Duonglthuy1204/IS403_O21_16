def build_and_evaluate_model(file_name, train_ratio=0.7, test_ratio=0.3):
    # Đọc dữ liệu từ file CSV
    df = read_file(file_name)
    df1 = df.reset_index()['Price']
    # Scaler data
    scaler = MinMaxScaler(feature_range=(0,1))
    df1 = scaler.fit_transform(np.array(df1).reshape(-1,1))
    # Chia train, test
    train_size = int(train_ratio * len(df1))
    test_size = int(test_ratio * len(df1))
    train_data = df1[:train_size]
    test_data = df1[train_size:train_size+test_size]
    # Hàm Create Dataset
    def create_dataset(dataset, time_step=1):
        dataX, dataY = [], []
        for i in range(len(dataset)-time_step-1):
            a = dataset[i:(i+time_step), 0]
            dataX.append(a)
            dataY.append(dataset[i + time_step, 0])
        return np.array(dataX), np.array(dataY)
    # Reshape into X=t,t+1,t+2..t+99 and Y=t+100
    time_step = 100
    X_train, y_train = create_dataset(train_data, time_step)
    X_test, y_test = create_dataset(test_data, time_step)
    # Reshape input to be [samples, time steps, features] which is required for LSTM
    X_train = X_train.reshape(X_train.shape[0], X_train.shape[1], 1)
    X_test = X_test.reshape(X_test.shape[0], X_test.shape[1], 1)
    # Define LSTM Model
    model = Sequential()
    model.add(SimpleRNN(50, input_shape=(time_step, 1)))
    model.add(Dense(1))
    model.compile(loss='mean_squared_error', optimizer='adam')
    # Fit mô hình với dữ liệu train
    model.fit(X_train, y_train, epochs=100, batch_size=64, verbose=1)
    # Dự báo dữ liệu test
    train_predict = model.predict(X_train)
    y_pred = model.predict(X_test)
    # Chuẩn hóa dữ liệu y_pred
    train_predict=scaler.inverse_transform(train_predict)
    y_pred=scaler.inverse_transform(y_pred)
    # Đánh giá độ chính xác thuật toán bằng RMSE
    train_rmse = np.sqrt(np.mean((train_predict - y_train)**2))
    test_rmse = np.sqrt(np.mean((y_pred - y_test)**2))
    print('Train RMSE:', train_rmse)
    print('Testing RMSE:', test_rmse)
    def forecast_days(forecast_days):
    # Dự báo n ngày tiếp theo
        x_input = test_data[-time_step:].reshape(1, -1)
        temp_input = list(x_input[0])
        lst_output = []

        while len(lst_output) < forecast_days:
            if len(temp_input) > time_step:
                x_input = np.array(temp_input[1:])
                x_input = x_input.reshape(1, -1)
                x_input = x_input.reshape((1, time_step, 1))
                yhat = model.predict(x_input, verbose=0)
                temp_input.extend(yhat[0].tolist())
                temp_input = temp_input[1:]
                lst_output.extend(yhat.tolist())
            else:
                x_input = x_input.reshape((1, time_step, 1))
                yhat = model.predict(x_input, verbose=0)
                temp_input.extend(yhat[0].tolist())
                lst_output.extend(yhat.tolist())
        return lst_output

    # Dự báo 30, 60, 90 ngày
    forecast_30 = forecast_days(30)
    forecast_60 = forecast_days(60)
    forecast_90 = forecast_days(90)

    # Vẽ hình
    train_data_index = pd.RangeIndex(start=0, stop=train_size, step=1)
    plt.plot(scaler.inverse_transform(train_data), label='Train')
    test_data_index = pd.RangeIndex(start=train_size, stop=train_size+test_size, step=1)
    plt.plot(test_data_index, scaler.inverse_transform(test_data), label='Test')
    test_data_index = pd.RangeIndex(start=train_size+101, stop=train_size+test_size, step=1)
    plt.plot(test_data_index, y_pred, label='Predict')
    # Vẽ dự đoán 30, 60, 90 ngày với các màu khác nhau
    forecast_30_index = pd.RangeIndex(start=len(df1), stop=len(df1)+30, step=1)
    plt.plot(forecast_30_index, scaler.inverse_transform(forecast_30), label='Forecast 30 days')

    forecast_60_index = pd.RangeIndex(start=len(df1), stop=len(df1)+60, step=1)
    plt.plot(forecast_60_index, scaler.inverse_transform(forecast_60), label='Forecast 60 days')

    forecast_90_index = pd.RangeIndex(start=len(df1), stop=len(df1)+90, step=1)
    plt.plot(forecast_90_index, scaler.inverse_transform(forecast_90), label='Forecast 90 days')

    plt.legend()
    plt.show()