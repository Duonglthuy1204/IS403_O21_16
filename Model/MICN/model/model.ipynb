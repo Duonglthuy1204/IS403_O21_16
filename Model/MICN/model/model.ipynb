{
 "cells": [
  {
   "cell_type": "code",
   "execution_count": null,
   "metadata": {},
   "outputs": [],
   "source": [
    "import torch\n",
    "import torch.nn as nn\n",
    "from models.embed import DataEmbedding\n",
    "from models.local_global import Seasonal_Prediction, series_decomp_multi"
   ]
  },
  {
   "cell_type": "code",
   "execution_count": null,
   "metadata": {},
   "outputs": [],
   "source": [
    "class MICN(nn.Module):\n",
    "    def __init__(self, dec_in, c_out, seq_len, label_len, out_len,\n",
    "                 d_model=512, n_heads=8,d_layers=2,\n",
    "                 dropout=0.0,embed='fixed', freq='h',\n",
    "                 device=torch.device('cuda:0'), mode='regre',\n",
    "                 decomp_kernel=[33], conv_kernel=[12, 24], isometric_kernel=[18, 6],):\n",
    "        super(MICN, self).__init__()\n",
    "\n",
    "        self.pred_len = out_len\n",
    "        self.seq_len = seq_len\n",
    "        self.c_out = c_out\n",
    "        self.decomp_kernel = decomp_kernel\n",
    "        self.mode = mode\n",
    "\n",
    "        self.decomp_multi = series_decomp_multi(decomp_kernel)\n",
    "\n",
    "        # embedding\n",
    "        self.dec_embedding = DataEmbedding(dec_in, d_model, embed, freq, dropout)\n",
    "\n",
    "        self.conv_trans = Seasonal_Prediction(embedding_size=d_model, n_heads=n_heads, dropout=dropout,\n",
    "                                     d_layers=d_layers, decomp_kernel=decomp_kernel, c_out=c_out, conv_kernel=conv_kernel,\n",
    "                                     isometric_kernel=isometric_kernel, device=device)\n",
    "\n",
    "        self.regression = nn.Linear(seq_len, out_len)\n",
    "        self.regression.weight = nn.Parameter((1/out_len) * torch.ones([out_len, seq_len]), requires_grad=True)\n",
    "\n",
    "    def forward(self, x_enc, x_mark_enc, x_dec, x_mark_dec,\n",
    "                enc_self_mask=None, dec_self_mask=None, dec_enc_mask=None):\n",
    "\n",
    "        # trend-cyclical prediction block: regre or mean\n",
    "        if self.mode == 'regre':\n",
    "            seasonal_init_enc, trend = self.decomp_multi(x_enc)\n",
    "            trend = self.regression(trend.permute(0,2,1)).permute(0, 2, 1)\n",
    "        elif self.mode == 'mean':\n",
    "            mean = torch.mean(x_enc, dim=1).unsqueeze(1).repeat(1, self.pred_len, 1)\n",
    "            seasonal_init_enc, trend = self.decomp_multi(x_enc)\n",
    "            trend = torch.cat([trend[:, -self.seq_len:, :], mean], dim=1)\n",
    "\n",
    "        # embedding\n",
    "        zeros = torch.zeros([x_dec.shape[0], self.pred_len, x_dec.shape[2]], device=x_enc.device)\n",
    "        seasonal_init_dec = torch.cat([seasonal_init_enc[:, -self.seq_len:, :], zeros], dim=1)\n",
    "        dec_out = self.dec_embedding(seasonal_init_dec, x_mark_dec)\n",
    "\n",
    "        dec_out = self.conv_trans(dec_out)\n",
    "        dec_out = dec_out[:, -self.pred_len:, :] + trend[:, -self.pred_len:, :]\n",
    "        return dec_out"
   ]
  }
 ],
 "metadata": {
  "language_info": {
   "name": "python"
  }
 },
 "nbformat": 4,
 "nbformat_minor": 2
}
